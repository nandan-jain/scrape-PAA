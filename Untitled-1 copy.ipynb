{
 "cells": [
  {
   "cell_type": "code",
   "execution_count": 1,
   "metadata": {},
   "outputs": [
    {
     "name": "stdout",
     "output_type": "stream",
     "text": [
      "Requirement already satisfied: selenium in c:\\users\\anne\\appdata\\local\\programs\\python\\python311\\lib\\site-packages (4.12.0)\n",
      "Requirement already satisfied: urllib3[socks]<3,>=1.26 in c:\\users\\anne\\appdata\\local\\programs\\python\\python311\\lib\\site-packages (from selenium) (2.0.4)\n",
      "Requirement already satisfied: trio~=0.17 in c:\\users\\anne\\appdata\\local\\programs\\python\\python311\\lib\\site-packages (from selenium) (0.22.2)\n",
      "Requirement already satisfied: trio-websocket~=0.9 in c:\\users\\anne\\appdata\\local\\programs\\python\\python311\\lib\\site-packages (from selenium) (0.10.4)\n",
      "Requirement already satisfied: certifi>=2021.10.8 in c:\\users\\anne\\appdata\\local\\programs\\python\\python311\\lib\\site-packages (from selenium) (2023.7.22)\n",
      "Requirement already satisfied: attrs>=20.1.0 in c:\\users\\anne\\appdata\\local\\programs\\python\\python311\\lib\\site-packages (from trio~=0.17->selenium) (23.1.0)\n",
      "Requirement already satisfied: sortedcontainers in c:\\users\\anne\\appdata\\local\\programs\\python\\python311\\lib\\site-packages (from trio~=0.17->selenium) (2.4.0)\n",
      "Requirement already satisfied: idna in c:\\users\\anne\\appdata\\local\\programs\\python\\python311\\lib\\site-packages (from trio~=0.17->selenium) (3.4)\n",
      "Requirement already satisfied: outcome in c:\\users\\anne\\appdata\\local\\programs\\python\\python311\\lib\\site-packages (from trio~=0.17->selenium) (1.2.0)\n",
      "Requirement already satisfied: sniffio in c:\\users\\anne\\appdata\\local\\programs\\python\\python311\\lib\\site-packages (from trio~=0.17->selenium) (1.3.0)\n",
      "Requirement already satisfied: cffi>=1.14 in c:\\users\\anne\\appdata\\local\\programs\\python\\python311\\lib\\site-packages (from trio~=0.17->selenium) (1.15.1)\n",
      "Requirement already satisfied: exceptiongroup in c:\\users\\anne\\appdata\\local\\programs\\python\\python311\\lib\\site-packages (from trio-websocket~=0.9->selenium) (1.1.3)\n",
      "Requirement already satisfied: wsproto>=0.14 in c:\\users\\anne\\appdata\\local\\programs\\python\\python311\\lib\\site-packages (from trio-websocket~=0.9->selenium) (1.2.0)\n",
      "Requirement already satisfied: pysocks!=1.5.7,<2.0,>=1.5.6 in c:\\users\\anne\\appdata\\local\\programs\\python\\python311\\lib\\site-packages (from urllib3[socks]<3,>=1.26->selenium) (1.7.1)\n",
      "Requirement already satisfied: pycparser in c:\\users\\anne\\appdata\\local\\programs\\python\\python311\\lib\\site-packages (from cffi>=1.14->trio~=0.17->selenium) (2.21)\n",
      "Requirement already satisfied: h11<1,>=0.9.0 in c:\\users\\anne\\appdata\\local\\programs\\python\\python311\\lib\\site-packages (from wsproto>=0.14->trio-websocket~=0.9->selenium) (0.14.0)\n"
     ]
    },
    {
     "name": "stderr",
     "output_type": "stream",
     "text": [
      "\n",
      "[notice] A new release of pip is available: 23.1.2 -> 23.2.1\n",
      "[notice] To update, run: python.exe -m pip install --upgrade pip\n"
     ]
    },
    {
     "name": "stdout",
     "output_type": "stream",
     "text": [
      "Requirement already satisfied: bs4 in c:\\users\\anne\\appdata\\local\\programs\\python\\python311\\lib\\site-packages (0.0.1)\n",
      "Requirement already satisfied: beautifulsoup4 in c:\\users\\anne\\appdata\\local\\programs\\python\\python311\\lib\\site-packages (from bs4) (4.12.2)\n",
      "Requirement already satisfied: soupsieve>1.2 in c:\\users\\anne\\appdata\\local\\programs\\python\\python311\\lib\\site-packages (from beautifulsoup4->bs4) (2.5)\n"
     ]
    },
    {
     "name": "stderr",
     "output_type": "stream",
     "text": [
      "\n",
      "[notice] A new release of pip is available: 23.1.2 -> 23.2.1\n",
      "[notice] To update, run: python.exe -m pip install --upgrade pip\n"
     ]
    }
   ],
   "source": [
    "! pip install selenium\n",
    "! pip install bs4"
   ]
  },
  {
   "cell_type": "code",
   "execution_count": 2,
   "metadata": {},
   "outputs": [],
   "source": [
    "from selenium import webdriver\n",
    "import time\n",
    "import json\n",
    "from bs4 import BeautifulSoup"
   ]
  },
  {
   "cell_type": "code",
   "execution_count": 3,
   "metadata": {},
   "outputs": [],
   "source": [
    "driver = webdriver.Chrome()\n",
    "driver.get(\"https://www.google.com/search?q=python\")"
   ]
  },
  {
   "cell_type": "code",
   "execution_count": 4,
   "metadata": {},
   "outputs": [],
   "source": [
    "def get_questions_elements(driver):\n",
    "    paa_spans = driver.find_elements(\"xpath\", \"//span[text()='People also ask']\")\n",
    "    # print(len(paa_spans))\n",
    "    paa_main_div = paa_spans[0].find_element(\"xpath\", \"../../../..\")\n",
    "    return paa_main_div.find_elements(\"xpath\", \".//div[@jsname = 'yEVEwb']\")\n",
    "\n",
    "def get_question_text(element):\n",
    "    soup = BeautifulSoup(element.get_attribute(\"innerHTML\"), \"html.parser\")\n",
    "    return soup.find('span',{'class' : 'CSkcDe'}).text\n",
    "\n",
    "def get_questions(driver):\n",
    "    questions_elements = get_questions_elements(driver)\n",
    "    question_list = set()\n",
    "    for i,element in enumerate(questions_elements):\n",
    "        question_text = get_question_text(element)\n",
    "        question_list.add(question_text)\n",
    "    return question_list\n",
    "    "
   ]
  },
  {
   "cell_type": "code",
   "execution_count": 5,
   "metadata": {},
   "outputs": [
    {
     "name": "stdout",
     "output_type": "stream",
     "text": [
      "[{'question': 'What is Python and its features?'}, {'question': 'How to use Python for beginners?'}, {'question': 'What is Python with example?'}, {'question': 'What is Python used for?'}]\n"
     ]
    }
   ],
   "source": [
    "level_1_questions = get_questions(driver)\n",
    "collection = [{\"question\": question} for question in level_1_questions]\n",
    "print(collection)"
   ]
  },
  {
   "cell_type": "code",
   "execution_count": 6,
   "metadata": {},
   "outputs": [
    {
     "name": "stdout",
     "output_type": "stream",
     "text": [
      "What is Python used for?\n",
      "How to use Python for beginners?\n",
      "What is Python and its features?\n",
      "What is Python with example?\n",
      "4\n"
     ]
    }
   ],
   "source": [
    "first_level_question_divs = get_questions_elements(driver)\n",
    "for i in first_level_question_divs:\n",
    "    print(get_question_text(i))\n",
    "print(len(first_level_question_divs))"
   ]
  },
  {
   "cell_type": "code",
   "execution_count": 7,
   "metadata": {},
   "outputs": [
    {
     "name": "stdout",
     "output_type": "stream",
     "text": [
      "[\n",
      "    {\n",
      "        \"question\": \"What is Python and its features?\",\n",
      "        \"children\": [\n",
      "            {\n",
      "                \"question\": \"Is Python or C++ better?\"\n",
      "            },\n",
      "            {\n",
      "                \"question\": \"Can I learn, Python in 3 days?\"\n",
      "            }\n",
      "        ]\n",
      "    },\n",
      "    {\n",
      "        \"question\": \"How to use Python for beginners?\",\n",
      "        \"children\": [\n",
      "            {\n",
      "                \"question\": \"What are Python basics?\"\n",
      "            },\n",
      "            {\n",
      "                \"question\": \"How do I start coding?\"\n",
      "            },\n",
      "            {\n",
      "                \"question\": \"How to write a code in Python?\"\n",
      "            }\n",
      "        ]\n",
      "    },\n",
      "    {\n",
      "        \"question\": \"What is Python with example?\",\n",
      "        \"children\": []\n",
      "    },\n",
      "    {\n",
      "        \"question\": \"What is Python used for?\",\n",
      "        \"children\": [\n",
      "            {\n",
      "                \"question\": \"What are Python keywords?\"\n",
      "            },\n",
      "            {\n",
      "                \"question\": \"What are the 7 features of Python?\"\n",
      "            },\n",
      "            {\n",
      "                \"question\": \"What are advantages of Python?\"\n",
      "            }\n",
      "        ]\n",
      "    }\n",
      "]\n"
     ]
    }
   ],
   "source": [
    "for i,qts_div in enumerate(first_level_question_divs):\n",
    "    qts_div.click()\n",
    "    time.sleep(2)\n",
    "    updated_questions_set = get_questions(driver)\n",
    "    # updated_qts_div = get_questions_elements(driver)\n",
    "    # updated_questions_set = set()\n",
    "    # for j,element in enumerate(updated_qts_div):\n",
    "    #     updated_questions_set.add(get_question_text(element))\n",
    "\n",
    "\n",
    "    collection[i][\"children\"] = [{\"question\":question} for question in updated_questions_set-level_1_questions]\n",
    "    level_1_questions =  updated_questions_set\n",
    "\n",
    "print(json.dumps(collection, indent=4))\n"
   ]
  },
  {
   "cell_type": "code",
   "execution_count": 10,
   "metadata": {},
   "outputs": [],
   "source": [
    "# Recursive function to scrape new divs and their sub-divs\n",
    "def scrape_div(div_element, level):\n",
    "    existing_divs = set(get_questions_elements(driver))\n",
    "    div_element.click()\n",
    "    time.sleep(2)\n",
    "    updated_divs = set(get_questions_elements(driver))\n",
    "    new_divs = updated_divs - existing_divs\n",
    "    new_div_texts = [get_question_text(new_div) for new_div in new_divs]\n",
    "\n",
    "    if level >= 2:\n",
    "        return new_divs\n",
    "\n",
    "    sub_divs_data = {}\n",
    "    for i, new_div in enumerate(new_divs):\n",
    "        sub_div_data = scrape_div(new_div, level + 1)\n",
    "        print(sub_div_data)\n",
    "        sub_divs_data[new_div_texts[i]] = sub_div_data\n",
    "\n",
    "    print(sub_divs_data)\n",
    "    return sub_divs_data"
   ]
  },
  {
   "cell_type": "code",
   "execution_count": 11,
   "metadata": {},
   "outputs": [
    {
     "name": "stderr",
     "output_type": "stream",
     "text": [
      "\n",
      "KeyboardInterrupt\n",
      "\n"
     ]
    }
   ],
   "source": [
    "# Initialize a data structure to store the information\n",
    "tree_data = {}\n",
    "\n",
    "# Loop through the initial divs\n",
    "for div in first_level_question_divs:\n",
    "    qts = get_question_text(div)\n",
    "    tree_data[qts] = scrape_div(div, 1)\n",
    "    break"
   ]
  }
 ],
 "metadata": {
  "kernelspec": {
   "display_name": "Python 3",
   "language": "python",
   "name": "python3"
  },
  "language_info": {
   "codemirror_mode": {
    "name": "ipython",
    "version": 3
   },
   "file_extension": ".py",
   "mimetype": "text/x-python",
   "name": "python",
   "nbconvert_exporter": "python",
   "pygments_lexer": "ipython3",
   "version": "3.11.4"
  },
  "orig_nbformat": 4
 },
 "nbformat": 4,
 "nbformat_minor": 2
}
