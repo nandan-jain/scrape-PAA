{
 "cells": [
  {
   "cell_type": "code",
   "execution_count": 63,
   "metadata": {},
   "outputs": [
    {
     "name": "stdout",
     "output_type": "stream",
     "text": [
      "Requirement already satisfied: selenium in c:\\users\\anne\\appdata\\local\\programs\\python\\python311\\lib\\site-packages (4.12.0)"
     ]
    },
    {
     "name": "stderr",
     "output_type": "stream",
     "text": [
      "\n",
      "[notice] A new release of pip is available: 23.1.2 -> 23.2.1\n",
      "[notice] To update, run: python.exe -m pip install --upgrade pip\n"
     ]
    },
    {
     "name": "stdout",
     "output_type": "stream",
     "text": [
      "\n",
      "Requirement already satisfied: urllib3[socks]<3,>=1.26 in c:\\users\\anne\\appdata\\local\\programs\\python\\python311\\lib\\site-packages (from selenium) (2.0.4)\n",
      "Requirement already satisfied: trio~=0.17 in c:\\users\\anne\\appdata\\local\\programs\\python\\python311\\lib\\site-packages (from selenium) (0.22.2)\n",
      "Requirement already satisfied: trio-websocket~=0.9 in c:\\users\\anne\\appdata\\local\\programs\\python\\python311\\lib\\site-packages (from selenium) (0.10.4)\n",
      "Requirement already satisfied: certifi>=2021.10.8 in c:\\users\\anne\\appdata\\local\\programs\\python\\python311\\lib\\site-packages (from selenium) (2023.7.22)\n",
      "Requirement already satisfied: attrs>=20.1.0 in c:\\users\\anne\\appdata\\local\\programs\\python\\python311\\lib\\site-packages (from trio~=0.17->selenium) (23.1.0)\n",
      "Requirement already satisfied: sortedcontainers in c:\\users\\anne\\appdata\\local\\programs\\python\\python311\\lib\\site-packages (from trio~=0.17->selenium) (2.4.0)\n",
      "Requirement already satisfied: idna in c:\\users\\anne\\appdata\\local\\programs\\python\\python311\\lib\\site-packages (from trio~=0.17->selenium) (3.4)\n",
      "Requirement already satisfied: outcome in c:\\users\\anne\\appdata\\local\\programs\\python\\python311\\lib\\site-packages (from trio~=0.17->selenium) (1.2.0)\n",
      "Requirement already satisfied: sniffio in c:\\users\\anne\\appdata\\local\\programs\\python\\python311\\lib\\site-packages (from trio~=0.17->selenium) (1.3.0)\n",
      "Requirement already satisfied: cffi>=1.14 in c:\\users\\anne\\appdata\\local\\programs\\python\\python311\\lib\\site-packages (from trio~=0.17->selenium) (1.15.1)\n",
      "Requirement already satisfied: exceptiongroup in c:\\users\\anne\\appdata\\local\\programs\\python\\python311\\lib\\site-packages (from trio-websocket~=0.9->selenium) (1.1.3)\n",
      "Requirement already satisfied: wsproto>=0.14 in c:\\users\\anne\\appdata\\local\\programs\\python\\python311\\lib\\site-packages (from trio-websocket~=0.9->selenium) (1.2.0)\n",
      "Requirement already satisfied: pysocks!=1.5.7,<2.0,>=1.5.6 in c:\\users\\anne\\appdata\\local\\programs\\python\\python311\\lib\\site-packages (from urllib3[socks]<3,>=1.26->selenium) (1.7.1)\n",
      "Requirement already satisfied: pycparser in c:\\users\\anne\\appdata\\local\\programs\\python\\python311\\lib\\site-packages (from cffi>=1.14->trio~=0.17->selenium) (2.21)\n",
      "Requirement already satisfied: h11<1,>=0.9.0 in c:\\users\\anne\\appdata\\local\\programs\\python\\python311\\lib\\site-packages (from wsproto>=0.14->trio-websocket~=0.9->selenium) (0.14.0)\n",
      "Requirement already satisfied: bs4 in c:\\users\\anne\\appdata\\local\\programs\\python\\python311\\lib\\site-packages (0.0.1)\n",
      "Requirement already satisfied: beautifulsoup4 in c:\\users\\anne\\appdata\\local\\programs\\python\\python311\\lib\\site-packages (from bs4) (4.12.2)\n",
      "Requirement already satisfied: soupsieve>1.2 in c:\\users\\anne\\appdata\\local\\programs\\python\\python311\\lib\\site-packages (from beautifulsoup4->bs4) (2.5)\n"
     ]
    },
    {
     "name": "stderr",
     "output_type": "stream",
     "text": [
      "\n",
      "[notice] A new release of pip is available: 23.1.2 -> 23.2.1\n",
      "[notice] To update, run: python.exe -m pip install --upgrade pip\n"
     ]
    }
   ],
   "source": [
    "! pip install selenium\n",
    "! pip install bs4"
   ]
  },
  {
   "cell_type": "code",
   "execution_count": 64,
   "metadata": {},
   "outputs": [],
   "source": [
    "from selenium import webdriver\n",
    "import time\n",
    "import json\n",
    "from bs4 import BeautifulSoup"
   ]
  },
  {
   "cell_type": "code",
   "execution_count": 65,
   "metadata": {},
   "outputs": [],
   "source": [
    "driver = webdriver.Chrome()\n",
    "driver.get(\"https://www.google.com/search?q=python\")"
   ]
  },
  {
   "cell_type": "code",
   "execution_count": 66,
   "metadata": {},
   "outputs": [],
   "source": [
    "def get_questions_elements(driver):\n",
    "    #TODO Change the way to get spans\n",
    "    # paa_spans = driver.find_elements(\"xpath\", \"//span[text()='Questions related to your search']\")\n",
    "    paa_spans = driver.find_elements(\"xpath\", \"//span[text()='People also ask']\")\n",
    "    # print(len(paa_spans))\n",
    "    paa_main_div = paa_spans[0].find_element(\"xpath\", \"../../../..\")\n",
    "    return paa_main_div.find_elements(\"xpath\", \".//div[@jsname = 'yEVEwb']\")\n",
    "\n",
    "def get_question_text(element):\n",
    "    soup = BeautifulSoup(element.get_attribute(\"innerHTML\"), \"html.parser\")\n",
    "    return soup.find('span',{'class' : 'CSkcDe'}).text\n",
    "\n",
    "def get_questions(driver):\n",
    "    questions_elements = get_questions_elements(driver)\n",
    "    question_list = set()\n",
    "    for i,element in enumerate(questions_elements):\n",
    "        question_text = get_question_text(element)\n",
    "        question_list.add(question_text)\n",
    "    return question_list\n",
    "    "
   ]
  },
  {
   "cell_type": "code",
   "execution_count": 67,
   "metadata": {},
   "outputs": [
    {
     "name": "stdout",
     "output_type": "stream",
     "text": [
      "[<selenium.webdriver.remote.webelement.WebElement (session=\"823c4dd5f1e0469d9d20bc8652ea6d2e\", element=\"B9505AC365187559735D2DF6A02E4B69_element_31\")>, <selenium.webdriver.remote.webelement.WebElement (session=\"823c4dd5f1e0469d9d20bc8652ea6d2e\", element=\"B9505AC365187559735D2DF6A02E4B69_element_32\")>, <selenium.webdriver.remote.webelement.WebElement (session=\"823c4dd5f1e0469d9d20bc8652ea6d2e\", element=\"B9505AC365187559735D2DF6A02E4B69_element_33\")>, <selenium.webdriver.remote.webelement.WebElement (session=\"823c4dd5f1e0469d9d20bc8652ea6d2e\", element=\"B9505AC365187559735D2DF6A02E4B69_element_34\")>]\n",
      "['What is a Python used for?', 'Is Python just for beginners?', 'What is the programming language of Python?', 'What is the introduction of Python?']\n"
     ]
    }
   ],
   "source": [
    "level_1_questions = get_questions_elements(driver)\n",
    "collection = [get_question_text(question) for question in level_1_questions]\n",
    "print(list(level_1_questions))\n",
    "print(collection)"
   ]
  },
  {
   "cell_type": "code",
   "execution_count": 68,
   "metadata": {},
   "outputs": [],
   "source": [
    "def create_nested_dict(div_elements, depth=0, max_depth=1):\n",
    "    if not div_elements or depth > max_depth:\n",
    "        return {f\"{get_question_text(item)}\": {} for item in div_elements}\n",
    "\n",
    "    result = {}\n",
    "    for element in div_elements:\n",
    "        existing_divs = set(get_questions_elements(driver))\n",
    "        element.click()\n",
    "        time.sleep(2)\n",
    "        updated_divs = set(get_questions_elements(driver))\n",
    "        new_divs = updated_divs - existing_divs\n",
    "        question_text = get_question_text(element)\n",
    "        result[question_text] = create_nested_dict(new_divs, depth + 1, max_depth)\n",
    "\n",
    "    return result\n"
   ]
  },
  {
   "cell_type": "code",
   "execution_count": 69,
   "metadata": {},
   "outputs": [
    {
     "ename": "ElementClickInterceptedException",
     "evalue": "Message: element click intercepted: Element <div jsname=\"yEVEwb\" style=\"\">...</div> is not clickable at point (354, 24). Other element would receive the click: <textarea jsname=\"yZiJbe\" class=\"gLFyf\" jsaction=\"paste:puy29d; mouseenter:MJEKMe; mouseleave:iFHZnf;\" id=\"APjFqb\" maxlength=\"2048\" name=\"q\" rows=\"1\" aria-activedescendant=\"\" aria-autocomplete=\"both\" aria-controls=\"Alh6id\" aria-expanded=\"false\" aria-haspopup=\"both\" aria-owns=\"Alh6id\" autocapitalize=\"off\" autocomplete=\"off\" autocorrect=\"off\" role=\"combobox\" spellcheck=\"false\" type=\"search\" value=\"...\" aria-label=\"Search\" data-ved=\"0ahUKEwjhqIicoa2BAxVsyTgGHdxnDnkQ39UDCAw\">python</textarea>\n  (Session info: chrome=116.0.5845.180)\nStacktrace:\n\tGetHandleVerifier [0x00007FF660D052A2+57122]\n\t(No symbol) [0x00007FF660C7EA92]\n\t(No symbol) [0x00007FF660B4E3AB]\n\t(No symbol) [0x00007FF660B8D783]\n\t(No symbol) [0x00007FF660B8BD5F]\n\t(No symbol) [0x00007FF660B89DC8]\n\t(No symbol) [0x00007FF660B88FD5]\n\t(No symbol) [0x00007FF660B7F25F]\n\t(No symbol) [0x00007FF660BA6FDA]\n\t(No symbol) [0x00007FF660B7EB76]\n\t(No symbol) [0x00007FF660BA71F0]\n\t(No symbol) [0x00007FF660BBEB82]\n\t(No symbol) [0x00007FF660BA6DB3]\n\t(No symbol) [0x00007FF660B7D2B1]\n\t(No symbol) [0x00007FF660B7E494]\n\tGetHandleVerifier [0x00007FF660FAEF82+2849794]\n\tGetHandleVerifier [0x00007FF661001D24+3189156]\n\tGetHandleVerifier [0x00007FF660FFACAF+3160367]\n\tGetHandleVerifier [0x00007FF660D96D06+653702]\n\t(No symbol) [0x00007FF660C8A208]\n\t(No symbol) [0x00007FF660C862C4]\n\t(No symbol) [0x00007FF660C863F6]\n\t(No symbol) [0x00007FF660C767A3]\n\tBaseThreadInitThunk [0x00007FFE0A956FD4+20]\n\tRtlUserThreadStart [0x00007FFE0B09CEC1+33]\n",
     "output_type": "error",
     "traceback": [
      "\u001b[1;31m---------------------------------------------------------------------------\u001b[0m",
      "\u001b[1;31mElementClickInterceptedException\u001b[0m          Traceback (most recent call last)",
      "Cell \u001b[1;32mIn[69], line 1\u001b[0m\n\u001b[1;32m----> 1\u001b[0m nested_dict \u001b[39m=\u001b[39m create_nested_dict(level_1_questions)\n\u001b[0;32m      2\u001b[0m \u001b[39mprint\u001b[39m(json\u001b[39m.\u001b[39mdumps(nested_dict, indent\u001b[39m=\u001b[39m\u001b[39m4\u001b[39m))\n\u001b[0;32m      3\u001b[0m \u001b[39m# print(nested_dict)\u001b[39;00m\n",
      "Cell \u001b[1;32mIn[68], line 8\u001b[0m, in \u001b[0;36mcreate_nested_dict\u001b[1;34m(div_elements, depth, max_depth)\u001b[0m\n\u001b[0;32m      6\u001b[0m \u001b[39mfor\u001b[39;00m element \u001b[39min\u001b[39;00m div_elements:\n\u001b[0;32m      7\u001b[0m     existing_divs \u001b[39m=\u001b[39m \u001b[39mset\u001b[39m(get_questions_elements(driver))\n\u001b[1;32m----> 8\u001b[0m     element\u001b[39m.\u001b[39;49mclick()\n\u001b[0;32m      9\u001b[0m     time\u001b[39m.\u001b[39msleep(\u001b[39m2\u001b[39m)\n\u001b[0;32m     10\u001b[0m     updated_divs \u001b[39m=\u001b[39m \u001b[39mset\u001b[39m(get_questions_elements(driver))\n",
      "File \u001b[1;32mc:\\Users\\Anne\\AppData\\Local\\Programs\\Python\\Python311\\Lib\\site-packages\\selenium\\webdriver\\remote\\webelement.py:93\u001b[0m, in \u001b[0;36mWebElement.click\u001b[1;34m(self)\u001b[0m\n\u001b[0;32m     91\u001b[0m \u001b[39mdef\u001b[39;00m \u001b[39mclick\u001b[39m(\u001b[39mself\u001b[39m) \u001b[39m-\u001b[39m\u001b[39m>\u001b[39m \u001b[39mNone\u001b[39;00m:\n\u001b[0;32m     92\u001b[0m \u001b[39m    \u001b[39m\u001b[39m\"\"\"Clicks the element.\"\"\"\u001b[39;00m\n\u001b[1;32m---> 93\u001b[0m     \u001b[39mself\u001b[39;49m\u001b[39m.\u001b[39;49m_execute(Command\u001b[39m.\u001b[39;49mCLICK_ELEMENT)\n",
      "File \u001b[1;32mc:\\Users\\Anne\\AppData\\Local\\Programs\\Python\\Python311\\Lib\\site-packages\\selenium\\webdriver\\remote\\webelement.py:394\u001b[0m, in \u001b[0;36mWebElement._execute\u001b[1;34m(self, command, params)\u001b[0m\n\u001b[0;32m    392\u001b[0m     params \u001b[39m=\u001b[39m {}\n\u001b[0;32m    393\u001b[0m params[\u001b[39m\"\u001b[39m\u001b[39mid\u001b[39m\u001b[39m\"\u001b[39m] \u001b[39m=\u001b[39m \u001b[39mself\u001b[39m\u001b[39m.\u001b[39m_id\n\u001b[1;32m--> 394\u001b[0m \u001b[39mreturn\u001b[39;00m \u001b[39mself\u001b[39;49m\u001b[39m.\u001b[39;49m_parent\u001b[39m.\u001b[39;49mexecute(command, params)\n",
      "File \u001b[1;32mc:\\Users\\Anne\\AppData\\Local\\Programs\\Python\\Python311\\Lib\\site-packages\\selenium\\webdriver\\remote\\webdriver.py:344\u001b[0m, in \u001b[0;36mWebDriver.execute\u001b[1;34m(self, driver_command, params)\u001b[0m\n\u001b[0;32m    342\u001b[0m response \u001b[39m=\u001b[39m \u001b[39mself\u001b[39m\u001b[39m.\u001b[39mcommand_executor\u001b[39m.\u001b[39mexecute(driver_command, params)\n\u001b[0;32m    343\u001b[0m \u001b[39mif\u001b[39;00m response:\n\u001b[1;32m--> 344\u001b[0m     \u001b[39mself\u001b[39;49m\u001b[39m.\u001b[39;49merror_handler\u001b[39m.\u001b[39;49mcheck_response(response)\n\u001b[0;32m    345\u001b[0m     response[\u001b[39m\"\u001b[39m\u001b[39mvalue\u001b[39m\u001b[39m\"\u001b[39m] \u001b[39m=\u001b[39m \u001b[39mself\u001b[39m\u001b[39m.\u001b[39m_unwrap_value(response\u001b[39m.\u001b[39mget(\u001b[39m\"\u001b[39m\u001b[39mvalue\u001b[39m\u001b[39m\"\u001b[39m, \u001b[39mNone\u001b[39;00m))\n\u001b[0;32m    346\u001b[0m     \u001b[39mreturn\u001b[39;00m response\n",
      "File \u001b[1;32mc:\\Users\\Anne\\AppData\\Local\\Programs\\Python\\Python311\\Lib\\site-packages\\selenium\\webdriver\\remote\\errorhandler.py:229\u001b[0m, in \u001b[0;36mErrorHandler.check_response\u001b[1;34m(self, response)\u001b[0m\n\u001b[0;32m    227\u001b[0m         alert_text \u001b[39m=\u001b[39m value[\u001b[39m\"\u001b[39m\u001b[39malert\u001b[39m\u001b[39m\"\u001b[39m]\u001b[39m.\u001b[39mget(\u001b[39m\"\u001b[39m\u001b[39mtext\u001b[39m\u001b[39m\"\u001b[39m)\n\u001b[0;32m    228\u001b[0m     \u001b[39mraise\u001b[39;00m exception_class(message, screen, stacktrace, alert_text)  \u001b[39m# type: ignore[call-arg]  # mypy is not smart enough here\u001b[39;00m\n\u001b[1;32m--> 229\u001b[0m \u001b[39mraise\u001b[39;00m exception_class(message, screen, stacktrace)\n",
      "\u001b[1;31mElementClickInterceptedException\u001b[0m: Message: element click intercepted: Element <div jsname=\"yEVEwb\" style=\"\">...</div> is not clickable at point (354, 24). Other element would receive the click: <textarea jsname=\"yZiJbe\" class=\"gLFyf\" jsaction=\"paste:puy29d; mouseenter:MJEKMe; mouseleave:iFHZnf;\" id=\"APjFqb\" maxlength=\"2048\" name=\"q\" rows=\"1\" aria-activedescendant=\"\" aria-autocomplete=\"both\" aria-controls=\"Alh6id\" aria-expanded=\"false\" aria-haspopup=\"both\" aria-owns=\"Alh6id\" autocapitalize=\"off\" autocomplete=\"off\" autocorrect=\"off\" role=\"combobox\" spellcheck=\"false\" type=\"search\" value=\"...\" aria-label=\"Search\" data-ved=\"0ahUKEwjhqIicoa2BAxVsyTgGHdxnDnkQ39UDCAw\">python</textarea>\n  (Session info: chrome=116.0.5845.180)\nStacktrace:\n\tGetHandleVerifier [0x00007FF660D052A2+57122]\n\t(No symbol) [0x00007FF660C7EA92]\n\t(No symbol) [0x00007FF660B4E3AB]\n\t(No symbol) [0x00007FF660B8D783]\n\t(No symbol) [0x00007FF660B8BD5F]\n\t(No symbol) [0x00007FF660B89DC8]\n\t(No symbol) [0x00007FF660B88FD5]\n\t(No symbol) [0x00007FF660B7F25F]\n\t(No symbol) [0x00007FF660BA6FDA]\n\t(No symbol) [0x00007FF660B7EB76]\n\t(No symbol) [0x00007FF660BA71F0]\n\t(No symbol) [0x00007FF660BBEB82]\n\t(No symbol) [0x00007FF660BA6DB3]\n\t(No symbol) [0x00007FF660B7D2B1]\n\t(No symbol) [0x00007FF660B7E494]\n\tGetHandleVerifier [0x00007FF660FAEF82+2849794]\n\tGetHandleVerifier [0x00007FF661001D24+3189156]\n\tGetHandleVerifier [0x00007FF660FFACAF+3160367]\n\tGetHandleVerifier [0x00007FF660D96D06+653702]\n\t(No symbol) [0x00007FF660C8A208]\n\t(No symbol) [0x00007FF660C862C4]\n\t(No symbol) [0x00007FF660C863F6]\n\t(No symbol) [0x00007FF660C767A3]\n\tBaseThreadInitThunk [0x00007FFE0A956FD4+20]\n\tRtlUserThreadStart [0x00007FFE0B09CEC1+33]\n"
     ]
    }
   ],
   "source": [
    "nested_dict = create_nested_dict(level_1_questions)\n",
    "print(json.dumps(nested_dict, indent=4))\n",
    "# print(nested_dict)"
   ]
  },
  {
   "cell_type": "code",
   "execution_count": 10,
   "metadata": {},
   "outputs": [],
   "source": [
    "# Recursive function to scrape new divs and their sub-divs\n",
    "def scrape_div(div_element, level):\n",
    "    existing_divs = set(get_questions_elements(driver))\n",
    "    div_element.click()\n",
    "    time.sleep(2)\n",
    "    updated_divs = set(get_questions_elements(driver))\n",
    "    new_divs = updated_divs - existing_divs\n",
    "    new_div_texts = [get_question_text(new_div) for new_div in new_divs]\n",
    "\n",
    "    if level >= 2:\n",
    "        return new_divs\n",
    "\n",
    "    sub_divs_data = {}\n",
    "    for i, new_div in enumerate(new_divs):\n",
    "        sub_div_data = scrape_div(new_div, level + 1)\n",
    "        print(sub_div_data)\n",
    "        sub_divs_data[new_div_texts[i]] = sub_div_data\n",
    "\n",
    "    print(sub_divs_data)\n",
    "    return sub_divs_data"
   ]
  },
  {
   "cell_type": "code",
   "execution_count": 11,
   "metadata": {},
   "outputs": [
    {
     "name": "stderr",
     "output_type": "stream",
     "text": [
      "\n",
      "KeyboardInterrupt\n",
      "\n"
     ]
    }
   ],
   "source": [
    "# Initialize a data structure to store the information\n",
    "tree_data = {}\n",
    "\n",
    "# Loop through the initial divs\n",
    "for div in first_level_question_divs:\n",
    "    qts = get_question_text(div)\n",
    "    tree_data[qts] = scrape_div(div, 1)\n",
    "    break"
   ]
  }
 ],
 "metadata": {
  "kernelspec": {
   "display_name": "Python 3",
   "language": "python",
   "name": "python3"
  },
  "language_info": {
   "codemirror_mode": {
    "name": "ipython",
    "version": 3
   },
   "file_extension": ".py",
   "mimetype": "text/x-python",
   "name": "python",
   "nbconvert_exporter": "python",
   "pygments_lexer": "ipython3",
   "version": "3.11.4"
  },
  "orig_nbformat": 4
 },
 "nbformat": 4,
 "nbformat_minor": 2
}
